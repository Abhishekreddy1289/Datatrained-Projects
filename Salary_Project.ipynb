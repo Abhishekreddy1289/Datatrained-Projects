{
 "cells": [
  {
   "cell_type": "markdown",
   "id": "62a0f865",
   "metadata": {},
   "source": [
    "# Salary Project"
   ]
  },
  {
   "cell_type": "markdown",
   "id": "63439bcd",
   "metadata": {},
   "source": [
    "###### import the all needed libraries"
   ]
  },
  {
   "cell_type": "code",
   "execution_count": 1,
   "id": "fbd6d943",
   "metadata": {},
   "outputs": [],
   "source": [
    "import numpy as np\n",
    "import pandas as pd\n",
    "import matplotlib.pyplot as plt\n",
    "import seaborn as sns\n",
    "\n",
    "from sklearn.preprocessing import LabelEncoder\n",
    "from sklearn.linear_model import LinearRegression\n",
    "from sklearn.model_selection import train_test_split\n",
    "from sklearn.tree import DecisionTreeRegressor\n",
    "from sklearn.neighbors import KNeighborsRegressor\n",
    "from sklearn.svm import SVR\n",
    "from sklearn.metrics import mean_absolute_error,mean_squared_error,r2_score\n",
    "\n",
    "import warnings\n",
    "warnings.filterwarnings('ignore')"
   ]
  },
  {
   "cell_type": "markdown",
   "id": "f9de89c1",
   "metadata": {},
   "source": [
    "###### Read the salary csv file "
   ]
  },
  {
   "cell_type": "code",
   "execution_count": 2,
   "id": "4a069f9f",
   "metadata": {},
   "outputs": [],
   "source": [
    "df=pd.read_csv('salary.csv')"
   ]
  },
  {
   "cell_type": "code",
   "execution_count": 3,
   "id": "a0e5fe9e",
   "metadata": {},
   "outputs": [
    {
     "data": {
      "text/html": [
       "<div>\n",
       "<style scoped>\n",
       "    .dataframe tbody tr th:only-of-type {\n",
       "        vertical-align: middle;\n",
       "    }\n",
       "\n",
       "    .dataframe tbody tr th {\n",
       "        vertical-align: top;\n",
       "    }\n",
       "\n",
       "    .dataframe thead th {\n",
       "        text-align: right;\n",
       "    }\n",
       "</style>\n",
       "<table border=\"1\" class=\"dataframe\">\n",
       "  <thead>\n",
       "    <tr style=\"text-align: right;\">\n",
       "      <th></th>\n",
       "      <th>rank</th>\n",
       "      <th>discipline</th>\n",
       "      <th>yrs.since.phd</th>\n",
       "      <th>yrs.service</th>\n",
       "      <th>sex</th>\n",
       "      <th>salary</th>\n",
       "    </tr>\n",
       "  </thead>\n",
       "  <tbody>\n",
       "    <tr>\n",
       "      <th>0</th>\n",
       "      <td>Prof</td>\n",
       "      <td>B</td>\n",
       "      <td>19</td>\n",
       "      <td>18</td>\n",
       "      <td>Male</td>\n",
       "      <td>139750</td>\n",
       "    </tr>\n",
       "    <tr>\n",
       "      <th>1</th>\n",
       "      <td>Prof</td>\n",
       "      <td>B</td>\n",
       "      <td>20</td>\n",
       "      <td>16</td>\n",
       "      <td>Male</td>\n",
       "      <td>173200</td>\n",
       "    </tr>\n",
       "    <tr>\n",
       "      <th>2</th>\n",
       "      <td>AsstProf</td>\n",
       "      <td>B</td>\n",
       "      <td>4</td>\n",
       "      <td>3</td>\n",
       "      <td>Male</td>\n",
       "      <td>79750</td>\n",
       "    </tr>\n",
       "    <tr>\n",
       "      <th>3</th>\n",
       "      <td>Prof</td>\n",
       "      <td>B</td>\n",
       "      <td>45</td>\n",
       "      <td>39</td>\n",
       "      <td>Male</td>\n",
       "      <td>115000</td>\n",
       "    </tr>\n",
       "    <tr>\n",
       "      <th>4</th>\n",
       "      <td>Prof</td>\n",
       "      <td>B</td>\n",
       "      <td>40</td>\n",
       "      <td>41</td>\n",
       "      <td>Male</td>\n",
       "      <td>141500</td>\n",
       "    </tr>\n",
       "    <tr>\n",
       "      <th>...</th>\n",
       "      <td>...</td>\n",
       "      <td>...</td>\n",
       "      <td>...</td>\n",
       "      <td>...</td>\n",
       "      <td>...</td>\n",
       "      <td>...</td>\n",
       "    </tr>\n",
       "    <tr>\n",
       "      <th>392</th>\n",
       "      <td>Prof</td>\n",
       "      <td>A</td>\n",
       "      <td>33</td>\n",
       "      <td>30</td>\n",
       "      <td>Male</td>\n",
       "      <td>103106</td>\n",
       "    </tr>\n",
       "    <tr>\n",
       "      <th>393</th>\n",
       "      <td>Prof</td>\n",
       "      <td>A</td>\n",
       "      <td>31</td>\n",
       "      <td>19</td>\n",
       "      <td>Male</td>\n",
       "      <td>150564</td>\n",
       "    </tr>\n",
       "    <tr>\n",
       "      <th>394</th>\n",
       "      <td>Prof</td>\n",
       "      <td>A</td>\n",
       "      <td>42</td>\n",
       "      <td>25</td>\n",
       "      <td>Male</td>\n",
       "      <td>101738</td>\n",
       "    </tr>\n",
       "    <tr>\n",
       "      <th>395</th>\n",
       "      <td>Prof</td>\n",
       "      <td>A</td>\n",
       "      <td>25</td>\n",
       "      <td>15</td>\n",
       "      <td>Male</td>\n",
       "      <td>95329</td>\n",
       "    </tr>\n",
       "    <tr>\n",
       "      <th>396</th>\n",
       "      <td>AsstProf</td>\n",
       "      <td>A</td>\n",
       "      <td>8</td>\n",
       "      <td>4</td>\n",
       "      <td>Male</td>\n",
       "      <td>81035</td>\n",
       "    </tr>\n",
       "  </tbody>\n",
       "</table>\n",
       "<p>397 rows × 6 columns</p>\n",
       "</div>"
      ],
      "text/plain": [
       "         rank discipline  yrs.since.phd  yrs.service   sex  salary\n",
       "0        Prof          B             19           18  Male  139750\n",
       "1        Prof          B             20           16  Male  173200\n",
       "2    AsstProf          B              4            3  Male   79750\n",
       "3        Prof          B             45           39  Male  115000\n",
       "4        Prof          B             40           41  Male  141500\n",
       "..        ...        ...            ...          ...   ...     ...\n",
       "392      Prof          A             33           30  Male  103106\n",
       "393      Prof          A             31           19  Male  150564\n",
       "394      Prof          A             42           25  Male  101738\n",
       "395      Prof          A             25           15  Male   95329\n",
       "396  AsstProf          A              8            4  Male   81035\n",
       "\n",
       "[397 rows x 6 columns]"
      ]
     },
     "execution_count": 3,
     "metadata": {},
     "output_type": "execute_result"
    }
   ],
   "source": [
    "df"
   ]
  },
  {
   "cell_type": "markdown",
   "id": "b69bb3db",
   "metadata": {},
   "source": [
    "To see the all column names"
   ]
  },
  {
   "cell_type": "code",
   "execution_count": 39,
   "id": "74063cb5",
   "metadata": {},
   "outputs": [
    {
     "data": {
      "text/plain": [
       "Index(['rank', 'discipline', 'yrs.since.phd', 'yrs.service', 'sex', 'salary'], dtype='object')"
      ]
     },
     "execution_count": 39,
     "metadata": {},
     "output_type": "execute_result"
    }
   ],
   "source": [
    "df.columns"
   ]
  },
  {
   "cell_type": "markdown",
   "id": "2685c82d",
   "metadata": {},
   "source": [
    "### About the Columns:"
   ]
  },
  {
   "cell_type": "markdown",
   "id": "58764f7d",
   "metadata": {},
   "source": [
    "1.Rank"
   ]
  },
  {
   "cell_type": "markdown",
   "id": "131bc231",
   "metadata": {},
   "source": [
    "Here Rank column contain 'Prof','AsstProf' and 'AssocProf'."
   ]
  },
  {
   "cell_type": "markdown",
   "id": "90e6e24e",
   "metadata": {},
   "source": [
    "2.discipline"
   ]
  },
  {
   "cell_type": "markdown",
   "id": "21d2d7f3",
   "metadata": {},
   "source": [
    "Here discipline column contain 2 types 'A' and 'B' . Hence A are disciplined people and B are undisciplined people "
   ]
  },
  {
   "cell_type": "markdown",
   "id": "5f4d0bcd",
   "metadata": {},
   "source": [
    "3.yrs.since.phd"
   ]
  },
  {
   "cell_type": "markdown",
   "id": "d92e07a8",
   "metadata": {},
   "source": [
    "Prof are take many years but AsstProf are less."
   ]
  },
  {
   "cell_type": "markdown",
   "id": "ca491112",
   "metadata": {},
   "source": [
    "4.yrs.service"
   ]
  },
  {
   "cell_type": "markdown",
   "id": "22155775",
   "metadata": {},
   "source": [
    "Number year service in teaching field."
   ]
  },
  {
   "cell_type": "markdown",
   "id": "bb7c1716",
   "metadata": {},
   "source": [
    "5.Sex"
   ]
  },
  {
   "cell_type": "markdown",
   "id": "25fa4b75",
   "metadata": {},
   "source": [
    "sex column contain male and female"
   ]
  },
  {
   "cell_type": "markdown",
   "id": "4334502b",
   "metadata": {},
   "source": [
    "###### Checking Infomation of all columns like counting and Dtype"
   ]
  },
  {
   "cell_type": "code",
   "execution_count": 4,
   "id": "424554fe",
   "metadata": {},
   "outputs": [
    {
     "name": "stdout",
     "output_type": "stream",
     "text": [
      "<class 'pandas.core.frame.DataFrame'>\n",
      "RangeIndex: 397 entries, 0 to 396\n",
      "Data columns (total 6 columns):\n",
      " #   Column         Non-Null Count  Dtype \n",
      "---  ------         --------------  ----- \n",
      " 0   rank           397 non-null    object\n",
      " 1   discipline     397 non-null    object\n",
      " 2   yrs.since.phd  397 non-null    int64 \n",
      " 3   yrs.service    397 non-null    int64 \n",
      " 4   sex            397 non-null    object\n",
      " 5   salary         397 non-null    int64 \n",
      "dtypes: int64(3), object(3)\n",
      "memory usage: 18.7+ KB\n"
     ]
    }
   ],
   "source": [
    "df.info()"
   ]
  },
  {
   "cell_type": "markdown",
   "id": "e5b80eaf",
   "metadata": {},
   "source": [
    "###### Checking unique and value coounts of all columns"
   ]
  },
  {
   "cell_type": "code",
   "execution_count": 5,
   "id": "96bcdaa0",
   "metadata": {},
   "outputs": [
    {
     "name": "stdout",
     "output_type": "stream",
     "text": [
      "['Prof' 'AsstProf' 'AssocProf']\n",
      "Prof         266\n",
      "AsstProf      67\n",
      "AssocProf     64\n",
      "Name: rank, dtype: int64\n",
      "---->---->---->---->---->---->----->----->------>\n",
      "['B' 'A']\n",
      "B    216\n",
      "A    181\n",
      "Name: discipline, dtype: int64\n",
      "---->---->---->---->---->---->----->----->------>\n",
      "[19 20  4 45 40  6 30 21 18 12  7  1  2 38 37 39 31 36 34 24 13 35  5 11\n",
      " 22 41  9 23 25 28 16 14 10  8  3 33 17 29 26 43 15 42 32 54 56 27 48 46\n",
      " 47 52 51 49 44]\n",
      "4     19\n",
      "28    16\n",
      "8     14\n",
      "20    13\n",
      "19    13\n",
      "13    12\n",
      "17    12\n",
      "12    12\n",
      "38    11\n",
      "23    11\n",
      "21    11\n",
      "39    10\n",
      "10    10\n",
      "11    10\n",
      "31    10\n",
      "30     9\n",
      "22     9\n",
      "15     9\n",
      "14     9\n",
      "9      9\n",
      "25     9\n",
      "33     8\n",
      "35     8\n",
      "37     8\n",
      "29     8\n",
      "27     8\n",
      "18     8\n",
      "16     8\n",
      "3      8\n",
      "40     7\n",
      "26     6\n",
      "24     6\n",
      "32     6\n",
      "7      6\n",
      "6      6\n",
      "5      6\n",
      "45     6\n",
      "2      5\n",
      "43     5\n",
      "36     5\n",
      "49     4\n",
      "46     4\n",
      "1      4\n",
      "42     4\n",
      "41     4\n",
      "34     3\n",
      "56     2\n",
      "44     1\n",
      "47     1\n",
      "48     1\n",
      "51     1\n",
      "52     1\n",
      "54     1\n",
      "Name: yrs.since.phd, dtype: int64\n",
      "---->---->---->---->---->---->----->----->------>\n",
      "[18 16  3 39 41  6 23 45 20  8  2  1  0 34 36 26 31 30 19  4  9 21 27 38\n",
      " 15 28 25 11  5 12 17 14 37  7 10 29 32 22 49 57 24 53 33 40 35 43 44 48\n",
      " 46 51 13 60]\n",
      "3     22\n",
      "19    19\n",
      "7     18\n",
      "8     18\n",
      "23    16\n",
      "18    15\n",
      "2     15\n",
      "9     15\n",
      "11    14\n",
      "4     13\n",
      "1     13\n",
      "0     11\n",
      "27    11\n",
      "6     11\n",
      "10    11\n",
      "20    10\n",
      "31    10\n",
      "30     9\n",
      "15     9\n",
      "28     9\n",
      "16     8\n",
      "14     8\n",
      "22     8\n",
      "38     8\n",
      "5      8\n",
      "25     8\n",
      "26     7\n",
      "17     6\n",
      "36     6\n",
      "21     6\n",
      "40     5\n",
      "35     5\n",
      "12     5\n",
      "39     4\n",
      "45     4\n",
      "33     4\n",
      "43     4\n",
      "37     4\n",
      "49     3\n",
      "44     3\n",
      "24     2\n",
      "34     2\n",
      "41     1\n",
      "32     1\n",
      "13     1\n",
      "46     1\n",
      "48     1\n",
      "29     1\n",
      "51     1\n",
      "53     1\n",
      "57     1\n",
      "60     1\n",
      "Name: yrs.service, dtype: int64\n",
      "---->---->---->---->---->---->----->----->------>\n",
      "['Male' 'Female']\n",
      "Male      358\n",
      "Female     39\n",
      "Name: sex, dtype: int64\n",
      "---->---->---->---->---->---->----->----->------>\n"
     ]
    }
   ],
   "source": [
    "for val in df.columns[:-1]:\n",
    "    print(df[val].unique())\n",
    "    print(df[val].value_counts())\n",
    "    print('---->---->---->---->---->---->----->----->------>')"
   ]
  },
  {
   "cell_type": "markdown",
   "id": "97beb0f3",
   "metadata": {},
   "source": [
    "###### changing Object column to integer"
   ]
  },
  {
   "cell_type": "code",
   "execution_count": 7,
   "id": "71db8621",
   "metadata": {},
   "outputs": [],
   "source": [
    "label=LabelEncoder()"
   ]
  },
  {
   "cell_type": "code",
   "execution_count": 8,
   "id": "2085f385",
   "metadata": {},
   "outputs": [
    {
     "data": {
      "text/plain": [
       "Index(['rank', 'discipline', 'yrs.since.phd', 'yrs.service', 'sex', 'salary'], dtype='object')"
      ]
     },
     "execution_count": 8,
     "metadata": {},
     "output_type": "execute_result"
    }
   ],
   "source": [
    "df.columns"
   ]
  },
  {
   "cell_type": "code",
   "execution_count": 9,
   "id": "3a0a2362",
   "metadata": {},
   "outputs": [],
   "source": [
    "list1=['rank', 'discipline','sex']"
   ]
  },
  {
   "cell_type": "code",
   "execution_count": 10,
   "id": "d0b220e9",
   "metadata": {},
   "outputs": [],
   "source": [
    "for column in list1:\n",
    "    df[column]=label.fit_transform(df[column])"
   ]
  },
  {
   "cell_type": "code",
   "execution_count": 41,
   "id": "83c98df9",
   "metadata": {},
   "outputs": [
    {
     "data": {
      "text/plain": [
       "rank             int32\n",
       "discipline       int32\n",
       "yrs.since.phd    int64\n",
       "yrs.service      int64\n",
       "sex              int32\n",
       "salary           int64\n",
       "dtype: object"
      ]
     },
     "execution_count": 41,
     "metadata": {},
     "output_type": "execute_result"
    }
   ],
   "source": [
    "#After changing to see the dtypes\n",
    "df.dtypes"
   ]
  },
  {
   "cell_type": "code",
   "execution_count": 11,
   "id": "d716763b",
   "metadata": {},
   "outputs": [
    {
     "data": {
      "text/html": [
       "<div>\n",
       "<style scoped>\n",
       "    .dataframe tbody tr th:only-of-type {\n",
       "        vertical-align: middle;\n",
       "    }\n",
       "\n",
       "    .dataframe tbody tr th {\n",
       "        vertical-align: top;\n",
       "    }\n",
       "\n",
       "    .dataframe thead th {\n",
       "        text-align: right;\n",
       "    }\n",
       "</style>\n",
       "<table border=\"1\" class=\"dataframe\">\n",
       "  <thead>\n",
       "    <tr style=\"text-align: right;\">\n",
       "      <th></th>\n",
       "      <th>rank</th>\n",
       "      <th>discipline</th>\n",
       "      <th>yrs.since.phd</th>\n",
       "      <th>yrs.service</th>\n",
       "      <th>sex</th>\n",
       "      <th>salary</th>\n",
       "    </tr>\n",
       "  </thead>\n",
       "  <tbody>\n",
       "    <tr>\n",
       "      <th>0</th>\n",
       "      <td>2</td>\n",
       "      <td>1</td>\n",
       "      <td>19</td>\n",
       "      <td>18</td>\n",
       "      <td>1</td>\n",
       "      <td>139750</td>\n",
       "    </tr>\n",
       "    <tr>\n",
       "      <th>1</th>\n",
       "      <td>2</td>\n",
       "      <td>1</td>\n",
       "      <td>20</td>\n",
       "      <td>16</td>\n",
       "      <td>1</td>\n",
       "      <td>173200</td>\n",
       "    </tr>\n",
       "    <tr>\n",
       "      <th>2</th>\n",
       "      <td>1</td>\n",
       "      <td>1</td>\n",
       "      <td>4</td>\n",
       "      <td>3</td>\n",
       "      <td>1</td>\n",
       "      <td>79750</td>\n",
       "    </tr>\n",
       "    <tr>\n",
       "      <th>3</th>\n",
       "      <td>2</td>\n",
       "      <td>1</td>\n",
       "      <td>45</td>\n",
       "      <td>39</td>\n",
       "      <td>1</td>\n",
       "      <td>115000</td>\n",
       "    </tr>\n",
       "    <tr>\n",
       "      <th>4</th>\n",
       "      <td>2</td>\n",
       "      <td>1</td>\n",
       "      <td>40</td>\n",
       "      <td>41</td>\n",
       "      <td>1</td>\n",
       "      <td>141500</td>\n",
       "    </tr>\n",
       "    <tr>\n",
       "      <th>...</th>\n",
       "      <td>...</td>\n",
       "      <td>...</td>\n",
       "      <td>...</td>\n",
       "      <td>...</td>\n",
       "      <td>...</td>\n",
       "      <td>...</td>\n",
       "    </tr>\n",
       "    <tr>\n",
       "      <th>392</th>\n",
       "      <td>2</td>\n",
       "      <td>0</td>\n",
       "      <td>33</td>\n",
       "      <td>30</td>\n",
       "      <td>1</td>\n",
       "      <td>103106</td>\n",
       "    </tr>\n",
       "    <tr>\n",
       "      <th>393</th>\n",
       "      <td>2</td>\n",
       "      <td>0</td>\n",
       "      <td>31</td>\n",
       "      <td>19</td>\n",
       "      <td>1</td>\n",
       "      <td>150564</td>\n",
       "    </tr>\n",
       "    <tr>\n",
       "      <th>394</th>\n",
       "      <td>2</td>\n",
       "      <td>0</td>\n",
       "      <td>42</td>\n",
       "      <td>25</td>\n",
       "      <td>1</td>\n",
       "      <td>101738</td>\n",
       "    </tr>\n",
       "    <tr>\n",
       "      <th>395</th>\n",
       "      <td>2</td>\n",
       "      <td>0</td>\n",
       "      <td>25</td>\n",
       "      <td>15</td>\n",
       "      <td>1</td>\n",
       "      <td>95329</td>\n",
       "    </tr>\n",
       "    <tr>\n",
       "      <th>396</th>\n",
       "      <td>1</td>\n",
       "      <td>0</td>\n",
       "      <td>8</td>\n",
       "      <td>4</td>\n",
       "      <td>1</td>\n",
       "      <td>81035</td>\n",
       "    </tr>\n",
       "  </tbody>\n",
       "</table>\n",
       "<p>397 rows × 6 columns</p>\n",
       "</div>"
      ],
      "text/plain": [
       "     rank  discipline  yrs.since.phd  yrs.service  sex  salary\n",
       "0       2           1             19           18    1  139750\n",
       "1       2           1             20           16    1  173200\n",
       "2       1           1              4            3    1   79750\n",
       "3       2           1             45           39    1  115000\n",
       "4       2           1             40           41    1  141500\n",
       "..    ...         ...            ...          ...  ...     ...\n",
       "392     2           0             33           30    1  103106\n",
       "393     2           0             31           19    1  150564\n",
       "394     2           0             42           25    1  101738\n",
       "395     2           0             25           15    1   95329\n",
       "396     1           0              8            4    1   81035\n",
       "\n",
       "[397 rows x 6 columns]"
      ]
     },
     "execution_count": 11,
     "metadata": {},
     "output_type": "execute_result"
    }
   ],
   "source": [
    "#after changing to see the Dataset\n",
    "df"
   ]
  },
  {
   "cell_type": "markdown",
   "id": "10169564",
   "metadata": {},
   "source": [
    "After changing Object to Integer to see the all unique and count values of all columns"
   ]
  },
  {
   "cell_type": "code",
   "execution_count": 12,
   "id": "a51f1120",
   "metadata": {},
   "outputs": [
    {
     "name": "stdout",
     "output_type": "stream",
     "text": [
      "[2 1 0]\n",
      "2    266\n",
      "1     67\n",
      "0     64\n",
      "Name: rank, dtype: int64\n",
      "---->---->---->--->--->---->----->\n",
      "[1 0]\n",
      "1    216\n",
      "0    181\n",
      "Name: discipline, dtype: int64\n",
      "---->---->---->--->--->---->----->\n",
      "[19 20  4 45 40  6 30 21 18 12  7  1  2 38 37 39 31 36 34 24 13 35  5 11\n",
      " 22 41  9 23 25 28 16 14 10  8  3 33 17 29 26 43 15 42 32 54 56 27 48 46\n",
      " 47 52 51 49 44]\n",
      "4     19\n",
      "28    16\n",
      "8     14\n",
      "20    13\n",
      "19    13\n",
      "13    12\n",
      "17    12\n",
      "12    12\n",
      "38    11\n",
      "23    11\n",
      "21    11\n",
      "39    10\n",
      "10    10\n",
      "11    10\n",
      "31    10\n",
      "30     9\n",
      "22     9\n",
      "15     9\n",
      "14     9\n",
      "9      9\n",
      "25     9\n",
      "33     8\n",
      "35     8\n",
      "37     8\n",
      "29     8\n",
      "27     8\n",
      "18     8\n",
      "16     8\n",
      "3      8\n",
      "40     7\n",
      "26     6\n",
      "24     6\n",
      "32     6\n",
      "7      6\n",
      "6      6\n",
      "5      6\n",
      "45     6\n",
      "2      5\n",
      "43     5\n",
      "36     5\n",
      "49     4\n",
      "46     4\n",
      "1      4\n",
      "42     4\n",
      "41     4\n",
      "34     3\n",
      "56     2\n",
      "44     1\n",
      "47     1\n",
      "48     1\n",
      "51     1\n",
      "52     1\n",
      "54     1\n",
      "Name: yrs.since.phd, dtype: int64\n",
      "---->---->---->--->--->---->----->\n",
      "[18 16  3 39 41  6 23 45 20  8  2  1  0 34 36 26 31 30 19  4  9 21 27 38\n",
      " 15 28 25 11  5 12 17 14 37  7 10 29 32 22 49 57 24 53 33 40 35 43 44 48\n",
      " 46 51 13 60]\n",
      "3     22\n",
      "19    19\n",
      "7     18\n",
      "8     18\n",
      "23    16\n",
      "18    15\n",
      "2     15\n",
      "9     15\n",
      "11    14\n",
      "4     13\n",
      "1     13\n",
      "0     11\n",
      "27    11\n",
      "6     11\n",
      "10    11\n",
      "20    10\n",
      "31    10\n",
      "30     9\n",
      "15     9\n",
      "28     9\n",
      "16     8\n",
      "14     8\n",
      "22     8\n",
      "38     8\n",
      "5      8\n",
      "25     8\n",
      "26     7\n",
      "17     6\n",
      "36     6\n",
      "21     6\n",
      "40     5\n",
      "35     5\n",
      "12     5\n",
      "39     4\n",
      "45     4\n",
      "33     4\n",
      "43     4\n",
      "37     4\n",
      "49     3\n",
      "44     3\n",
      "24     2\n",
      "34     2\n",
      "41     1\n",
      "32     1\n",
      "13     1\n",
      "46     1\n",
      "48     1\n",
      "29     1\n",
      "51     1\n",
      "53     1\n",
      "57     1\n",
      "60     1\n",
      "Name: yrs.service, dtype: int64\n",
      "---->---->---->--->--->---->----->\n",
      "[1 0]\n",
      "1    358\n",
      "0     39\n",
      "Name: sex, dtype: int64\n",
      "---->---->---->--->--->---->----->\n"
     ]
    }
   ],
   "source": [
    "for val in df.columns[:-1]:\n",
    "    print(df[val].unique())\n",
    "    print(df[val].value_counts())\n",
    "    print('---->---->---->--->--->---->----->')"
   ]
  },
  {
   "cell_type": "markdown",
   "id": "7f5693c7",
   "metadata": {},
   "source": [
    "Describe the DataFrame it contain count,mean,std,min,max,25%,50%,75%."
   ]
  },
  {
   "cell_type": "code",
   "execution_count": 14,
   "id": "afbd46bc",
   "metadata": {},
   "outputs": [
    {
     "data": {
      "text/html": [
       "<div>\n",
       "<style scoped>\n",
       "    .dataframe tbody tr th:only-of-type {\n",
       "        vertical-align: middle;\n",
       "    }\n",
       "\n",
       "    .dataframe tbody tr th {\n",
       "        vertical-align: top;\n",
       "    }\n",
       "\n",
       "    .dataframe thead th {\n",
       "        text-align: right;\n",
       "    }\n",
       "</style>\n",
       "<table border=\"1\" class=\"dataframe\">\n",
       "  <thead>\n",
       "    <tr style=\"text-align: right;\">\n",
       "      <th></th>\n",
       "      <th>rank</th>\n",
       "      <th>discipline</th>\n",
       "      <th>yrs.since.phd</th>\n",
       "      <th>yrs.service</th>\n",
       "      <th>sex</th>\n",
       "      <th>salary</th>\n",
       "    </tr>\n",
       "  </thead>\n",
       "  <tbody>\n",
       "    <tr>\n",
       "      <th>count</th>\n",
       "      <td>397.000000</td>\n",
       "      <td>397.000000</td>\n",
       "      <td>397.000000</td>\n",
       "      <td>397.000000</td>\n",
       "      <td>397.000000</td>\n",
       "      <td>397.000000</td>\n",
       "    </tr>\n",
       "    <tr>\n",
       "      <th>mean</th>\n",
       "      <td>1.508816</td>\n",
       "      <td>0.544081</td>\n",
       "      <td>22.314861</td>\n",
       "      <td>17.614610</td>\n",
       "      <td>0.901763</td>\n",
       "      <td>113706.458438</td>\n",
       "    </tr>\n",
       "    <tr>\n",
       "      <th>std</th>\n",
       "      <td>0.757486</td>\n",
       "      <td>0.498682</td>\n",
       "      <td>12.887003</td>\n",
       "      <td>13.006024</td>\n",
       "      <td>0.298010</td>\n",
       "      <td>30289.038695</td>\n",
       "    </tr>\n",
       "    <tr>\n",
       "      <th>min</th>\n",
       "      <td>0.000000</td>\n",
       "      <td>0.000000</td>\n",
       "      <td>1.000000</td>\n",
       "      <td>0.000000</td>\n",
       "      <td>0.000000</td>\n",
       "      <td>57800.000000</td>\n",
       "    </tr>\n",
       "    <tr>\n",
       "      <th>25%</th>\n",
       "      <td>1.000000</td>\n",
       "      <td>0.000000</td>\n",
       "      <td>12.000000</td>\n",
       "      <td>7.000000</td>\n",
       "      <td>1.000000</td>\n",
       "      <td>91000.000000</td>\n",
       "    </tr>\n",
       "    <tr>\n",
       "      <th>50%</th>\n",
       "      <td>2.000000</td>\n",
       "      <td>1.000000</td>\n",
       "      <td>21.000000</td>\n",
       "      <td>16.000000</td>\n",
       "      <td>1.000000</td>\n",
       "      <td>107300.000000</td>\n",
       "    </tr>\n",
       "    <tr>\n",
       "      <th>75%</th>\n",
       "      <td>2.000000</td>\n",
       "      <td>1.000000</td>\n",
       "      <td>32.000000</td>\n",
       "      <td>27.000000</td>\n",
       "      <td>1.000000</td>\n",
       "      <td>134185.000000</td>\n",
       "    </tr>\n",
       "    <tr>\n",
       "      <th>max</th>\n",
       "      <td>2.000000</td>\n",
       "      <td>1.000000</td>\n",
       "      <td>56.000000</td>\n",
       "      <td>60.000000</td>\n",
       "      <td>1.000000</td>\n",
       "      <td>231545.000000</td>\n",
       "    </tr>\n",
       "  </tbody>\n",
       "</table>\n",
       "</div>"
      ],
      "text/plain": [
       "             rank  discipline  yrs.since.phd  yrs.service         sex  \\\n",
       "count  397.000000  397.000000     397.000000   397.000000  397.000000   \n",
       "mean     1.508816    0.544081      22.314861    17.614610    0.901763   \n",
       "std      0.757486    0.498682      12.887003    13.006024    0.298010   \n",
       "min      0.000000    0.000000       1.000000     0.000000    0.000000   \n",
       "25%      1.000000    0.000000      12.000000     7.000000    1.000000   \n",
       "50%      2.000000    1.000000      21.000000    16.000000    1.000000   \n",
       "75%      2.000000    1.000000      32.000000    27.000000    1.000000   \n",
       "max      2.000000    1.000000      56.000000    60.000000    1.000000   \n",
       "\n",
       "              salary  \n",
       "count     397.000000  \n",
       "mean   113706.458438  \n",
       "std     30289.038695  \n",
       "min     57800.000000  \n",
       "25%     91000.000000  \n",
       "50%    107300.000000  \n",
       "75%    134185.000000  \n",
       "max    231545.000000  "
      ]
     },
     "execution_count": 14,
     "metadata": {},
     "output_type": "execute_result"
    }
   ],
   "source": [
    "df.describe()"
   ]
  },
  {
   "cell_type": "markdown",
   "id": "386d7003",
   "metadata": {},
   "source": [
    "###### Checking correlation with each other"
   ]
  },
  {
   "cell_type": "code",
   "execution_count": 42,
   "id": "578dbb7d",
   "metadata": {},
   "outputs": [
    {
     "data": {
      "text/html": [
       "<div>\n",
       "<style scoped>\n",
       "    .dataframe tbody tr th:only-of-type {\n",
       "        vertical-align: middle;\n",
       "    }\n",
       "\n",
       "    .dataframe tbody tr th {\n",
       "        vertical-align: top;\n",
       "    }\n",
       "\n",
       "    .dataframe thead th {\n",
       "        text-align: right;\n",
       "    }\n",
       "</style>\n",
       "<table border=\"1\" class=\"dataframe\">\n",
       "  <thead>\n",
       "    <tr style=\"text-align: right;\">\n",
       "      <th></th>\n",
       "      <th>rank</th>\n",
       "      <th>discipline</th>\n",
       "      <th>yrs.since.phd</th>\n",
       "      <th>yrs.service</th>\n",
       "      <th>sex</th>\n",
       "      <th>salary</th>\n",
       "    </tr>\n",
       "  </thead>\n",
       "  <tbody>\n",
       "    <tr>\n",
       "      <th>rank</th>\n",
       "      <td>1.000000</td>\n",
       "      <td>-0.095962</td>\n",
       "      <td>0.524310</td>\n",
       "      <td>0.446604</td>\n",
       "      <td>NaN</td>\n",
       "      <td>0.515398</td>\n",
       "    </tr>\n",
       "    <tr>\n",
       "      <th>discipline</th>\n",
       "      <td>-0.095962</td>\n",
       "      <td>1.000000</td>\n",
       "      <td>-0.233685</td>\n",
       "      <td>-0.185759</td>\n",
       "      <td>NaN</td>\n",
       "      <td>0.127542</td>\n",
       "    </tr>\n",
       "    <tr>\n",
       "      <th>yrs.since.phd</th>\n",
       "      <td>0.524310</td>\n",
       "      <td>-0.233685</td>\n",
       "      <td>1.000000</td>\n",
       "      <td>0.908046</td>\n",
       "      <td>NaN</td>\n",
       "      <td>0.386818</td>\n",
       "    </tr>\n",
       "    <tr>\n",
       "      <th>yrs.service</th>\n",
       "      <td>0.446604</td>\n",
       "      <td>-0.185759</td>\n",
       "      <td>0.908046</td>\n",
       "      <td>1.000000</td>\n",
       "      <td>NaN</td>\n",
       "      <td>0.284771</td>\n",
       "    </tr>\n",
       "    <tr>\n",
       "      <th>sex</th>\n",
       "      <td>NaN</td>\n",
       "      <td>NaN</td>\n",
       "      <td>NaN</td>\n",
       "      <td>NaN</td>\n",
       "      <td>NaN</td>\n",
       "      <td>NaN</td>\n",
       "    </tr>\n",
       "    <tr>\n",
       "      <th>salary</th>\n",
       "      <td>0.515398</td>\n",
       "      <td>0.127542</td>\n",
       "      <td>0.386818</td>\n",
       "      <td>0.284771</td>\n",
       "      <td>NaN</td>\n",
       "      <td>1.000000</td>\n",
       "    </tr>\n",
       "  </tbody>\n",
       "</table>\n",
       "</div>"
      ],
      "text/plain": [
       "                   rank  discipline  yrs.since.phd  yrs.service  sex    salary\n",
       "rank           1.000000   -0.095962       0.524310     0.446604  NaN  0.515398\n",
       "discipline    -0.095962    1.000000      -0.233685    -0.185759  NaN  0.127542\n",
       "yrs.since.phd  0.524310   -0.233685       1.000000     0.908046  NaN  0.386818\n",
       "yrs.service    0.446604   -0.185759       0.908046     1.000000  NaN  0.284771\n",
       "sex                 NaN         NaN            NaN          NaN  NaN       NaN\n",
       "salary         0.515398    0.127542       0.386818     0.284771  NaN  1.000000"
      ]
     },
     "execution_count": 42,
     "metadata": {},
     "output_type": "execute_result"
    }
   ],
   "source": [
    "df.corr()"
   ]
  },
  {
   "cell_type": "markdown",
   "id": "cac438bf",
   "metadata": {},
   "source": [
    "Checking correlation with each other by using heatmap"
   ]
  },
  {
   "cell_type": "code",
   "execution_count": 15,
   "id": "78fd8b27",
   "metadata": {},
   "outputs": [
    {
     "data": {
      "text/plain": [
       "<AxesSubplot:>"
      ]
     },
     "execution_count": 15,
     "metadata": {},
     "output_type": "execute_result"
    },
    {
     "data": {
      "image/png": "[encoded data removed]",
      "text/plain": [
       "<Figure size 432x288 with 2 Axes>"
      ]
     },
     "metadata": {
      "needs_background": "light"
     },
     "output_type": "display_data"
    }
   ],
   "source": [
    "plt.figure()\n",
    "sns.heatmap(df.corr(),annot=True,cmap='Blues')"
   ]
  },
  {
   "cell_type": "markdown",
   "id": "6bc1f95e",
   "metadata": {},
   "source": [
    "checking null values in all columns"
   ]
  },
  {
   "cell_type": "code",
   "execution_count": 16,
   "id": "d8bee332",
   "metadata": {},
   "outputs": [
    {
     "data": {
      "image/png": "[encoded data removed]",
      "text/plain": [
       "<Figure size 432x288 with 1 Axes>"
      ]
     },
     "metadata": {
      "needs_background": "light"
     },
     "output_type": "display_data"
    },
    {
     "data": {
      "image/png": "[encoded data removed]",
      "text/plain": [
       "<Figure size 432x288 with 1 Axes>"
      ]
     },
     "metadata": {
      "needs_background": "light"
     },
     "output_type": "display_data"
    },
    {
     "data": {
      "image/png": "[encoded data removed]",
      "text/plain": [
       "<Figure size 432x288 with 1 Axes>"
      ]
     },
     "metadata": {
      "needs_background": "light"
     },
     "output_type": "display_data"
    },
    {
     "data": {
      "image/png": "[encoded data removed]",
      "text/plain": [
       "<Figure size 432x288 with 1 Axes>"
      ]
     },
     "metadata": {
      "needs_background": "light"
     },
     "output_type": "display_data"
    },
    {
     "data": {
      "image/png": "[encoded data removed]",
      "text/plain": [
       "<Figure size 432x288 with 1 Axes>"
      ]
     },
     "metadata": {
      "needs_background": "light"
     },
     "output_type": "display_data"
    },
    {
     "data": {
      "image/png": "[encoded data removed]",
      "text/plain": [
       "<Figure size 432x288 with 1 Axes>"
      ]
     },
     "metadata": {
      "needs_background": "light"
     },
     "output_type": "display_data"
    }
   ],
   "source": [
    "for val in df.columns:\n",
    "    plt.figure()\n",
    "    sns.boxplot(df[val])"
   ]
  },
  {
   "cell_type": "markdown",
   "id": "3406c963",
   "metadata": {},
   "source": [
    "### Remove Outliers"
   ]
  },
  {
   "cell_type": "markdown",
   "id": "3ab030e0",
   "metadata": {},
   "source": [
    "import zscore from scipy.stats"
   ]
  },
  {
   "cell_type": "code",
   "execution_count": 17,
   "id": "d8c4380c",
   "metadata": {},
   "outputs": [],
   "source": [
    "from scipy.stats import zscore"
   ]
  },
  {
   "cell_type": "code",
   "execution_count": 18,
   "id": "6dd6c373",
   "metadata": {},
   "outputs": [],
   "source": [
    "z=np.abs(zscore(df))"
   ]
  },
  {
   "cell_type": "code",
   "execution_count": 19,
   "id": "ef3d84c6",
   "metadata": {},
   "outputs": [
    {
     "name": "stdout",
     "output_type": "stream",
     "text": [
      "(array([  9,  19,  24,  34,  35,  43,  47,  48,  52,  63,  68,  84,  90,\n",
      "       103, 114, 119, 123, 127, 131, 132, 133, 148, 153, 179, 186, 218,\n",
      "       230, 231, 233, 237, 245, 253, 254, 274, 316, 323, 330, 332, 334,\n",
      "       341, 358, 361, 364], dtype=int64), array([4, 4, 4, 4, 4, 5, 4, 4, 4, 4, 4, 4, 4, 4, 4, 4, 4, 4, 3, 4, 4, 4,\n",
      "       4, 4, 4, 4, 4, 4, 4, 4, 4, 4, 4, 4, 4, 4, 3, 4, 4, 4, 4, 4, 5],\n",
      "      dtype=int64))\n"
     ]
    }
   ],
   "source": [
    "#checking row and column that outliers present\n",
    "threshold=3\n",
    "print(np.where(z>3))"
   ]
  },
  {
   "cell_type": "markdown",
   "id": "8d4822da",
   "metadata": {},
   "source": [
    "removing outliers and save as new DataFrame"
   ]
  },
  {
   "cell_type": "code",
   "execution_count": 20,
   "id": "b225e247",
   "metadata": {},
   "outputs": [],
   "source": [
    "df_new=df[(z<3).all(axis=1)]"
   ]
  },
  {
   "cell_type": "code",
   "execution_count": 21,
   "id": "eae85c74",
   "metadata": {},
   "outputs": [
    {
     "data": {
      "text/plain": [
       "(354, 6)"
      ]
     },
     "execution_count": 21,
     "metadata": {},
     "output_type": "execute_result"
    }
   ],
   "source": [
    "#check the shape of new DataFrame\n",
    "df_new.shape"
   ]
  },
  {
   "cell_type": "code",
   "execution_count": 22,
   "id": "9be01b5d",
   "metadata": {},
   "outputs": [
    {
     "data": {
      "text/plain": [
       "(397, 6)"
      ]
     },
     "execution_count": 22,
     "metadata": {},
     "output_type": "execute_result"
    }
   ],
   "source": [
    "#checking the shape of old DataFrame\n",
    "df.shape"
   ]
  },
  {
   "cell_type": "code",
   "execution_count": 23,
   "id": "771c5675",
   "metadata": {},
   "outputs": [],
   "source": [
    "df=df_new"
   ]
  },
  {
   "cell_type": "markdown",
   "id": "2ad4fab3",
   "metadata": {},
   "source": [
    "###### Separate the input columns"
   ]
  },
  {
   "cell_type": "code",
   "execution_count": 24,
   "id": "d60cca7a",
   "metadata": {},
   "outputs": [],
   "source": [
    "x=df.iloc[:,0:-1]"
   ]
  },
  {
   "cell_type": "markdown",
   "id": "38305c1c",
   "metadata": {},
   "source": [
    "check the shape of x"
   ]
  },
  {
   "cell_type": "code",
   "execution_count": 43,
   "id": "6c954106",
   "metadata": {},
   "outputs": [
    {
     "data": {
      "text/plain": [
       "(354, 5)"
      ]
     },
     "execution_count": 43,
     "metadata": {},
     "output_type": "execute_result"
    }
   ],
   "source": [
    "x.shape"
   ]
  },
  {
   "cell_type": "markdown",
   "id": "c0865167",
   "metadata": {},
   "source": [
    "###### Separate the output column"
   ]
  },
  {
   "cell_type": "code",
   "execution_count": 25,
   "id": "a66275a4",
   "metadata": {},
   "outputs": [],
   "source": [
    "y=df.iloc[:,-1]"
   ]
  },
  {
   "cell_type": "markdown",
   "id": "14c14c7a",
   "metadata": {},
   "source": [
    "check the shape of y"
   ]
  },
  {
   "cell_type": "code",
   "execution_count": 27,
   "id": "f6031814",
   "metadata": {},
   "outputs": [
    {
     "data": {
      "text/plain": [
       "(354,)"
      ]
     },
     "execution_count": 27,
     "metadata": {},
     "output_type": "execute_result"
    }
   ],
   "source": [
    "y.shape"
   ]
  },
  {
   "cell_type": "markdown",
   "id": "dabe9be8",
   "metadata": {},
   "source": [
    "###### Split x and y for Training and Testing"
   ]
  },
  {
   "cell_type": "code",
   "execution_count": 45,
   "id": "fe889678",
   "metadata": {},
   "outputs": [],
   "source": [
    "x_train,x_test,y_train,y_test=train_test_split(x,y,test_size=.22,random_state=43)"
   ]
  },
  {
   "cell_type": "markdown",
   "id": "e65aeb49",
   "metadata": {},
   "source": [
    "Check the shape of x_train"
   ]
  },
  {
   "cell_type": "code",
   "execution_count": 46,
   "id": "bfdb5384",
   "metadata": {},
   "outputs": [
    {
     "data": {
      "text/plain": [
       "(276, 5)"
      ]
     },
     "execution_count": 46,
     "metadata": {},
     "output_type": "execute_result"
    }
   ],
   "source": [
    "x_train.shape"
   ]
  },
  {
   "cell_type": "markdown",
   "id": "a021831c",
   "metadata": {},
   "source": [
    "check the shape x_test"
   ]
  },
  {
   "cell_type": "code",
   "execution_count": 47,
   "id": "f95df836",
   "metadata": {},
   "outputs": [
    {
     "data": {
      "text/plain": [
       "(78, 5)"
      ]
     },
     "execution_count": 47,
     "metadata": {},
     "output_type": "execute_result"
    }
   ],
   "source": [
    "x_test.shape"
   ]
  },
  {
   "cell_type": "markdown",
   "id": "63ddfb99",
   "metadata": {},
   "source": [
    "check the shape of y_train"
   ]
  },
  {
   "cell_type": "code",
   "execution_count": 48,
   "id": "5356a49c",
   "metadata": {},
   "outputs": [
    {
     "data": {
      "text/plain": [
       "(276,)"
      ]
     },
     "execution_count": 48,
     "metadata": {},
     "output_type": "execute_result"
    }
   ],
   "source": [
    "y_train.shape"
   ]
  },
  {
   "cell_type": "markdown",
   "id": "a5e32320",
   "metadata": {},
   "source": [
    "check the shape of y_test"
   ]
  },
  {
   "cell_type": "code",
   "execution_count": 49,
   "id": "2227b0d6",
   "metadata": {},
   "outputs": [
    {
     "data": {
      "text/plain": [
       "(78,)"
      ]
     },
     "execution_count": 49,
     "metadata": {},
     "output_type": "execute_result"
    }
   ],
   "source": [
    "y_test.shape"
   ]
  },
  {
   "cell_type": "markdown",
   "id": "683a7120",
   "metadata": {},
   "source": [
    "###### Fit the model by using x_train and y_train data. "
   ]
  },
  {
   "cell_type": "code",
   "execution_count": 50,
   "id": "7c05b7aa",
   "metadata": {},
   "outputs": [],
   "source": [
    "lnr=LinearRegression()\n",
    "dtr=DecisionTreeRegressor()\n",
    "knr=KNeighborsRegressor()\n",
    "svr=SVR()"
   ]
  },
  {
   "cell_type": "code",
   "execution_count": 51,
   "id": "532d30f7",
   "metadata": {},
   "outputs": [],
   "source": [
    "list2=[lnr,dtr,knr,svr]"
   ]
  },
  {
   "cell_type": "markdown",
   "id": "76c3bb18",
   "metadata": {},
   "source": [
    "###### fit the model and check the model score"
   ]
  },
  {
   "cell_type": "code",
   "execution_count": 52,
   "id": "8434b110",
   "metadata": {},
   "outputs": [
    {
     "name": "stdout",
     "output_type": "stream",
     "text": [
      "LinearRegression()\n",
      "0.3632134939566495\n",
      "---->----->---->----->---->\n",
      "DecisionTreeRegressor()\n",
      "0.9527192847778104\n",
      "---->----->---->----->---->\n",
      "KNeighborsRegressor()\n",
      "0.5503937327258273\n",
      "---->----->---->----->---->\n",
      "SVR()\n",
      "-0.05081217783390679\n",
      "---->----->---->----->---->\n"
     ]
    }
   ],
   "source": [
    "for model in list2:\n",
    "    model.fit(x_train,y_train)\n",
    "    print(model)\n",
    "    print(model.score(x_train,y_train))\n",
    "    print('---->----->---->----->---->')"
   ]
  },
  {
   "cell_type": "markdown",
   "id": "c109f44d",
   "metadata": {},
   "source": [
    "###### Take the High score model and predict the x_test"
   ]
  },
  {
   "cell_type": "code",
   "execution_count": 53,
   "id": "8faca200",
   "metadata": {},
   "outputs": [],
   "source": [
    "pred=dtr.predict(x_test)"
   ]
  },
  {
   "cell_type": "markdown",
   "id": "20e7a887",
   "metadata": {},
   "source": [
    "###### To see model predicted salaries and Actual salaries"
   ]
  },
  {
   "cell_type": "code",
   "execution_count": 54,
   "id": "5ea0dcfa",
   "metadata": {},
   "outputs": [
    {
     "name": "stdout",
     "output_type": "stream",
     "text": [
      "Predicted values:- [ 82099.         135585.         134690.          83850.\n",
      "  81077.66666667  81500.          75243.         148692.5\n",
      " 100938.         121200.          70700.         136660.\n",
      " 151575.          88709.         102914.          75243.\n",
      "  75243.         108200.         175000.         115435.\n",
      "  82099.         132000.         139750.         162200.\n",
      " 100944.          81500.         135200.         129574.5\n",
      "  79858.         139750.         101738.         151650.\n",
      "  82099.         105000.         134778.         134550.\n",
      " 100533.5        147310.5        129600.         109707.\n",
      " 134885.         116518.          87800.          83850.\n",
      " 114500.         103275.          82099.         186023.\n",
      " 142023.          90259.5         98053.          92050.\n",
      "  88175.         143940.          75044.          96545.\n",
      " 121200.         119800.         118223.         126000.\n",
      " 133217.          73928.          75243.         113543.\n",
      " 105350.         112696.         102000.          68200.\n",
      "  77700.         134550.          81077.66666667  89650.\n",
      "  88600.          96545.         151650.         145350.\n",
      "  96938.         119800.        ]\n",
      "Actual values:- 107     82600\n",
      "203    152500\n",
      "305    111350\n",
      "363     81285\n",
      "348     80139\n",
      "        ...  \n",
      "40     146500\n",
      "86     152708\n",
      "216    146000\n",
      "256    140300\n",
      "156    113341\n",
      "Name: salary, Length: 78, dtype: int64\n"
     ]
    }
   ],
   "source": [
    "print('Predicted values:-',pred)\n",
    "print('Actual values:-',y_test)"
   ]
  },
  {
   "cell_type": "markdown",
   "id": "ffe834b2",
   "metadata": {},
   "source": [
    "Checking mean absolute error,mean squared error and r2 score for predicted salaries and Actual salaries"
   ]
  },
  {
   "cell_type": "code",
   "execution_count": 38,
   "id": "1668814e",
   "metadata": {},
   "outputs": [
    {
     "name": "stdout",
     "output_type": "stream",
     "text": [
      "19598.383177570093\n",
      "750051198.1858774\n",
      "0.00011503754118935561\n"
     ]
    }
   ],
   "source": [
    "print(mean_absolute_error(pred,y_test))\n",
    "print(mean_squared_error(pred,y_test))\n",
    "print(r2_score(pred,y_test))"
   ]
  },
  {
   "cell_type": "markdown",
   "id": "72383562",
   "metadata": {},
   "source": [
    "###### Import the joblib library to save the model"
   ]
  },
  {
   "cell_type": "code",
   "execution_count": 55,
   "id": "a8af6dd8",
   "metadata": {},
   "outputs": [],
   "source": [
    "import joblib"
   ]
  },
  {
   "cell_type": "markdown",
   "id": "a27b384d",
   "metadata": {},
   "source": [
    "save model by using dump"
   ]
  },
  {
   "cell_type": "code",
   "execution_count": 56,
   "id": "968ea994",
   "metadata": {},
   "outputs": [
    {
     "data": {
      "text/plain": [
       "['salary_dtr.obj']"
      ]
     },
     "execution_count": 56,
     "metadata": {},
     "output_type": "execute_result"
    }
   ],
   "source": [
    "joblib.dump(dtr,'salary_dtr.obj')"
   ]
  },
  {
   "cell_type": "markdown",
   "id": "8efb7632",
   "metadata": {},
   "source": [
    "If we load the model use 'load'."
   ]
  },
  {
   "cell_type": "code",
   "execution_count": 57,
   "id": "b56682e5",
   "metadata": {},
   "outputs": [],
   "source": [
    "load_model=joblib.load('salary_dtr.obj')"
   ]
  },
  {
   "cell_type": "markdown",
   "id": "3c6c37ef",
   "metadata": {},
   "source": [
    "check that model is working or not"
   ]
  },
  {
   "cell_type": "code",
   "execution_count": 58,
   "id": "c2a2fae0",
   "metadata": {},
   "outputs": [
    {
     "data": {
      "text/plain": [
       "array([ 82099.        , 135585.        , 134690.        ,  83850.        ,\n",
       "        81077.66666667,  81500.        ,  75243.        , 148692.5       ,\n",
       "       100938.        , 121200.        ,  70700.        , 136660.        ,\n",
       "       151575.        ,  88709.        , 102914.        ,  75243.        ,\n",
       "        75243.        , 108200.        , 175000.        , 115435.        ,\n",
       "        82099.        , 132000.        , 139750.        , 162200.        ,\n",
       "       100944.        ,  81500.        , 135200.        , 129574.5       ,\n",
       "        79858.        , 139750.        , 101738.        , 151650.        ,\n",
       "        82099.        , 105000.        , 134778.        , 134550.        ,\n",
       "       100533.5       , 147310.5       , 129600.        , 109707.        ,\n",
       "       134885.        , 116518.        ,  87800.        ,  83850.        ,\n",
       "       114500.        , 103275.        ,  82099.        , 186023.        ,\n",
       "       142023.        ,  90259.5       ,  98053.        ,  92050.        ,\n",
       "        88175.        , 143940.        ,  75044.        ,  96545.        ,\n",
       "       121200.        , 119800.        , 118223.        , 126000.        ,\n",
       "       133217.        ,  73928.        ,  75243.        , 113543.        ,\n",
       "       105350.        , 112696.        , 102000.        ,  68200.        ,\n",
       "        77700.        , 134550.        ,  81077.66666667,  89650.        ,\n",
       "        88600.        ,  96545.        , 151650.        , 145350.        ,\n",
       "        96938.        , 119800.        ])"
      ]
     },
     "execution_count": 58,
     "metadata": {},
     "output_type": "execute_result"
    }
   ],
   "source": [
    "load_model.predict(x_test)"
   ]
  }
 ],
 "metadata": {
  "kernelspec": {
   "display_name": "Python 3",
   "language": "python",
   "name": "python3"
  },
  "language_info": {
   "codemirror_mode": {
    "name": "ipython",
    "version": 3
   },
   "file_extension": ".py",
   "mimetype": "text/x-python",
   "name": "python",
   "nbconvert_exporter": "python",
   "pygments_lexer": "ipython3",
   "version": "3.8.8"
  }
 },
 "nbformat": 4,
 "nbformat_minor": 5
}
